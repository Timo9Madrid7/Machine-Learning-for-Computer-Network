{
 "cells": [
  {
   "cell_type": "markdown",
   "metadata": {},
   "source": [
    "# K-Nearest-Neighbors Model"
   ]
  },
  {
   "cell_type": "code",
   "execution_count": 9,
   "metadata": {},
   "outputs": [
    {
     "data": {
      "image/png": "[encoded data removed]",
      "text/plain": [
       "<Figure size 432x288 with 1 Axes>"
      ]
     },
     "metadata": {
      "needs_background": "light"
     },
     "output_type": "display_data"
    }
   ],
   "source": [
    "import numpy as np\n",
    "import pandas as pd\n",
    "import sklearn\n",
    "import matplotlib as mpl\n",
    "import matplotlib.pyplot as plt\n",
    "\n",
    "\n",
    "# lists of points\n",
    "points = np.array([(1, 8), (2.4, 5), (3,6), (2,4), (1.8, 7), (3, 3.7), (1, 5.5),\n",
    "                   (7,8), (9, 6), (10, 9), (6,10), (8,11), (8.2,9.5),\n",
    "                   (5,1), (6, 3), (6, 5.7), (4.5,5), (5.5,3.5), (6.7, 2), (3,4.2)])\n",
    "\n",
    "classes = np.array([0, 0, 0, 0, 0, 0, 0, \n",
    "                    1, 1, 1, 1, 1, 1, \n",
    "                    2, 2, 2, 2, 2, 2, 2])\n",
    "\n",
    "unknown = np.array([(3, 4.7), (8,8)])\n",
    "\n",
    "# plotting\n",
    "colors = ['red','green','blue']\n",
    "plt.scatter(*zip(*points), c=classes, cmap=mpl.colors.ListedColormap(colors))\n",
    "plt.plot(*zip(*unknown), '*', color='black', markersize=10)\n",
    "plt.xlim((-1,11))\n",
    "plt.ylim((-1,12))\n",
    "plt.grid(linestyle='--', alpha=0.6)"
   ]
  },
  {
   "cell_type": "code",
   "execution_count": 2,
   "metadata": {},
   "outputs": [
    {
     "name": "stdout",
     "output_type": "stream",
     "text": [
      "0.95\n"
     ]
    }
   ],
   "source": [
    "from sklearn.neighbors import KNeighborsClassifier\n",
    "# get the training data in the right format\n",
    "\n",
    "# Create a nearest neighbors object\n",
    "#k = 1 #K nearest points\n",
    "#nn = KNeighborsClassifier(n_neighbors=k)\n",
    "nn = KNeighborsClassifier() \n",
    "\n",
    "#default, model will automatically select when k has not been determined\n",
    "\n",
    "\n",
    "# train the classifier using the labeled points\n",
    "nn.fit(points, classes)\n",
    "\n",
    "# it has three classess and each one has 7, 7, 6 points respectivley\n",
    "\n",
    "# test the confidence of the model for different K\n",
    "accuracy = nn.score(points,classes)\n",
    "print(accuracy)"
   ]
  },
  {
   "cell_type": "code",
   "execution_count": 3,
   "metadata": {},
   "outputs": [
    {
     "name": "stdout",
     "output_type": "stream",
     "text": [
      "['red', 'green']\n"
     ]
    }
   ],
   "source": [
    "# predict the value of the unknown points. \n",
    "predictions = nn.predict(unknown)\n",
    "\n",
    "# print the predictions\n",
    "print([colors[i] for i in predictions])"
   ]
  },
  {
   "cell_type": "markdown",
   "metadata": {},
   "source": [
    "# Mathmatic Analysis"
   ]
  },
  {
   "cell_type": "code",
   "execution_count": 4,
   "metadata": {},
   "outputs": [],
   "source": [
    "dataset = {'black':[[1,2],[2,3],[3,1]], 'red':[[6,5],[7,7],[8,6]]}\n",
    "new_features = [5,7]"
   ]
  },
  {
   "cell_type": "code",
   "execution_count": 5,
   "metadata": {},
   "outputs": [
    {
     "data": {
      "image/png": "[encoded data removed]",
      "text/plain": [
       "<Figure size 432x288 with 1 Axes>"
      ]
     },
     "metadata": {
      "needs_background": "light"
     },
     "output_type": "display_data"
    }
   ],
   "source": [
    "[[plt.scatter(ii[0],ii[1],s=100,color=i) for ii in dataset[i]] for i in dataset]\n",
    "plt.scatter(new_features[0], new_features[1], s=100)\n",
    "plt.show()"
   ]
  },
  {
   "cell_type": "code",
   "execution_count": 6,
   "metadata": {},
   "outputs": [],
   "source": [
    "from collections import Counter\n",
    "from math import sqrt\n",
    "def k_nearest_neighbors(data,predict,k):\n",
    "    if len(data) >= k:\n",
    "        print(\"warnings: K is set to a value less than the length of dataset\")\n",
    "    distances = []\n",
    "    # group is the class of dataset, feature is the estimated point in group\n",
    "    for group in data:\n",
    "        for features in data[group]:\n",
    "            #euclidean_distance=np.linalg.norm(np.array(features)-np.array(predict))\n",
    "            euclidean_distance = sqrt((features[0]-predict[0])**2+(features[1]-predict[1])**2)\n",
    "            distances.append([euclidean_distance,group])\n",
    "    \n",
    "    votes = [i[1] for i in sorted(distances)[:k]]\n",
    "    print(Counter(votes).most_common(1))\n",
    "    vote_result = Counter(votes).most_common(1)\n",
    "    return [vote_result,votes,distances]"
   ]
  },
  {
   "cell_type": "code",
   "execution_count": 7,
   "metadata": {},
   "outputs": [
    {
     "name": "stdout",
     "output_type": "stream",
     "text": [
      "[('red', 3)]\n"
     ]
    }
   ],
   "source": [
    "result = k_nearest_neighbors(dataset,new_features,4)"
   ]
  },
  {
   "cell_type": "code",
   "execution_count": 8,
   "metadata": {},
   "outputs": [
    {
     "name": "stdout",
     "output_type": "stream",
     "text": [
      "[('red', 3)] \n",
      " ['red', 'red', 'red', 'black'] \n",
      " [[6.4031242374328485, 'black'], [5.0, 'black'], [6.324555320336759, 'black'], [2.23606797749979, 'red'], [2.0, 'red'], [3.1622776601683795, 'red']]\n"
     ]
    }
   ],
   "source": [
    "# the drawback of KNN now is obviously that if the dataset if large, the process will cost lots of time\n",
    "print(result[0],'\\n',result[1],'\\n',result[2])"
   ]
  }
 ],
 "metadata": {
  "kernelspec": {
   "display_name": "Python 3",
   "language": "python",
   "name": "python3"
  },
  "language_info": {
   "codemirror_mode": {
    "name": "ipython",
    "version": 3
   },
   "file_extension": ".py",
   "mimetype": "text/x-python",
   "name": "python",
   "nbconvert_exporter": "python",
   "pygments_lexer": "ipython3",
   "version": "3.7.3"
  }
 },
 "nbformat": 4,
 "nbformat_minor": 2
}
